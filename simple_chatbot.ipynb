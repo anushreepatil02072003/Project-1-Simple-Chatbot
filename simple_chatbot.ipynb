{
 "cells": [
  {
   "cell_type": "code",
   "execution_count": 58,
   "id": "39ea69ce",
   "metadata": {},
   "outputs": [],
   "source": [
    "from nltk.chat.util import Chat, reflections"
   ]
  },
  {
   "cell_type": "code",
   "execution_count": 94,
   "id": "93b4a1cf",
   "metadata": {},
   "outputs": [],
   "source": [
    "#Pairs is a list of patterns and responses.\n",
    "pairs = [\n",
    "    [\n",
    "        r\"(.*)my name is (.*)\",\n",
    "        [\"How are you today ?\",]\n",
    "    ],\n",
    "    [\n",
    "        r\"(.*)help(.*) \",\n",
    "        [\"I can help you \",]\n",
    "    ],\n",
    "     [\n",
    "        r\"(.*) your name ?\",\n",
    "        [\"My name is AnyQ,I'm a chatbot .\",]\n",
    "    ],\n",
    "    [\n",
    "        r\"how are you (.*) ?\",\n",
    "        [\"I'm doing very well\", \"i am great !\"]\n",
    "    ],\n",
    "    [\n",
    "        r\"sorry (.*)\",\n",
    "        [\"Why so?\",]\n",
    "    ],\n",
    "    [\n",
    "        r\"i'm (.*) (good|well|okay|ok)\",\n",
    "        [\"Nice to hear that\",\"Alright, great !\",]\n",
    "    ],\n",
    "    [\n",
    "        r\"(hi|hey|hello|hola|holla)(.*)\",\n",
    "        [\"Hello\", \"Hey there\",]\n",
    "    ],\n",
    "    [\n",
    "        r\"what (.*) want ?\",\n",
    "        [\"Make me an offer I can't refuse\",]\n",
    "        \n",
    "    ],\n",
    "    [\n",
    "        r\"(.*)created(.*)\",\n",
    "        [\"You i think!Am i right?\",]\n",
    "    ],\n",
    "    [\n",
    "        r\"(.*) (location|city) ?\",\n",
    "        ['New Delhi, India',]\n",
    "    ],\n",
    "    [\n",
    "        r\"i am hungry\",\n",
    "        [\"what did you had in your breakfast?\"]\n",
    "    ],\n",
    "    [\n",
    "        r\"i cannot talk with you all the time\",\n",
    "        [\"That's alright\"]\n",
    "    ],\n",
    "    [\n",
    "        r\"how (.*) health (.*)\",\n",
    "        [\"Health is very important, but I am a computer, so I don't need to worry about my health , How is yours?\",]\n",
    "    ],\n",
    "    [\n",
    "        r\"(.*)(sports|game|sport)(.*)\",\n",
    "        [\"I'm a very big fan of Cricket\",]\n",
    "    ],\n",
    "    [\n",
    "        r\"are you good at cricket?\",\n",
    "        [\"oo yes ofcourse!\"]\n",
    "    ],\n",
    "    [\n",
    "        r\"quit\",\n",
    "        [\"Bye for now. See you soon :) \",\"It was nice talking to you. See you soon :)\"]\n",
    "    ],\n",
    "    [\n",
    "        r\"yes\",\n",
    "        [\"👍👍\"]\n",
    "    ],\n",
    "    #error handling\n",
    "    [\n",
    "        r\"(.*)\", \n",
    "        ['I am sorry, can you rephase your question']\n",
    "    ]\n",
    "  \n",
    "]"
   ]
  },
  {
   "cell_type": "code",
   "execution_count": 95,
   "id": "edbce275",
   "metadata": {
    "scrolled": true
   },
   "outputs": [
    {
     "name": "stdout",
     "output_type": "stream",
     "text": [
      "{'i am': 'you are', 'i was': 'you were', 'i': 'you', \"i'm\": 'you are', \"i'd\": 'you would', \"i've\": 'you have', \"i'll\": 'you will', 'my': 'your', 'you are': 'I am', 'you were': 'I was', \"you've\": 'I have', \"you'll\": 'I will', 'your': 'my', 'yours': 'mine', 'you': 'me', 'me': 'you'}\n"
     ]
    }
   ],
   "source": [
    "print(reflections)"
   ]
  },
  {
   "cell_type": "code",
   "execution_count": null,
   "id": "dbc2c148",
   "metadata": {
    "scrolled": true
   },
   "outputs": [
    {
     "name": "stdout",
     "output_type": "stream",
     "text": [
      "Hi, I'm chatbot and I like to chat\n",
      "Please type lowercase English language to start a conversation. Type quit to leave \n"
     ]
    }
   ],
   "source": [
    "#default message at the start of chat\n",
    "print(\"Hi, I'm chatbot and I like to chat\\nPlease type lowercase English language to start a conversation. Type quit to leave \")\n",
    "#Create Chat Bot\n",
    "chat = Chat(pairs, reflections)\n",
    "#Start conversation\n",
    "chat.converse()"
   ]
  },
  {
   "cell_type": "code",
   "execution_count": null,
   "id": "a5185a9c",
   "metadata": {},
   "outputs": [],
   "source": [
    "#OUTPUT:\n",
    "# Hi, I'm AnyQ and I like to chat\n",
    "# Please type lowercase English language to start a conversation. Type quit to leave \n",
    "# >hi\n",
    "# Hey there\n",
    "# >who created you?\n",
    "# You i think!Am i right?\n",
    "# >yes 👍👍\n",
    "# That is nice to hear\n",
    "# >what is your name?\n",
    "# My name is AnyQ,I'm a chatbot .\n",
    "# >do you like any sport?\n",
    "# I'm a very big fan of Cricket\n",
    "# >how are you?\n",
    "# That is nice to hear\n",
    "# >how are you AnyQ?\n",
    "# I'm doing very well\n",
    "# >what do you want?\n",
    "# Make me an offer I can't refuse\n",
    "# >sorry AnyQ\n",
    "# Why so?\n",
    "#are you good at cricket?\n",
    "#oo yes ofcourse!\n",
    "# >quit\n",
    "# Bye for now. See you soon :) "
   ]
  },
  {
   "cell_type": "code",
   "execution_count": null,
   "id": "5b950722",
   "metadata": {},
   "outputs": [],
   "source": []
  }
 ],
 "metadata": {
  "kernelspec": {
   "display_name": "Python 3 (ipykernel)",
   "language": "python",
   "name": "python3"
  },
  "language_info": {
   "codemirror_mode": {
    "name": "ipython",
    "version": 3
   },
   "file_extension": ".py",
   "mimetype": "text/x-python",
   "name": "python",
   "nbconvert_exporter": "python",
   "pygments_lexer": "ipython3",
   "version": "3.10.10"
  }
 },
 "nbformat": 4,
 "nbformat_minor": 5
}
